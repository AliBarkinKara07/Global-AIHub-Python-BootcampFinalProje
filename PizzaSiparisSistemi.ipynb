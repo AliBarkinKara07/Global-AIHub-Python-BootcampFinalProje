{
  "nbformat": 4,
  "nbformat_minor": 0,
  "metadata": {
    "colab": {
      "provenance": [],
      "authorship_tag": "ABX9TyMeQn8mntSdok4Ngu6PpYJB",
      "include_colab_link": true
    },
    "kernelspec": {
      "name": "python3",
      "display_name": "Python 3"
    },
    "language_info": {
      "name": "python"
    }
  },
  "cells": [
    {
      "cell_type": "markdown",
      "metadata": {
        "id": "view-in-github",
        "colab_type": "text"
      },
      "source": [
        "<a href=\"https://colab.research.google.com/github/AliBarkinKara07/Global-AIHub-Python-BootcampFinalProje/blob/main/PizzaSiparisSistemi.ipynb\" target=\"_parent\"><img src=\"https://colab.research.google.com/assets/colab-badge.svg\" alt=\"Open In Colab\"/></a>"
      ]
    },
    {
      "cell_type": "code",
      "execution_count": 10,
      "metadata": {
        "id": "entnCnh4hjS2"
      },
      "outputs": [],
      "source": [
        "import csv\n",
        "import datetime"
      ]
    },
    {
      "cell_type": "code",
      "source": [
        "#Bu kod bloğu, \"Menu.txt\" adlı bir dosya oluşturur ve içine menü metnini yazdırır. \n",
        "#Menü kullanıcının pizza tabanı ve sos seçeneklerini içerir\n",
        "with open(\"Menu.txt\", \"w\") as f:\n",
        "    f.write(\"* Lütfen Bir Pizza Tabanı Seçiniz:\\n\")\n",
        "    f.write(\"1: Klasik\\n\")\n",
        "    f.write(\"2: Margarita\\n\")\n",
        "    f.write(\"3: TürkPizza\\n\")\n",
        "    f.write(\"4: Sade Pizza\\n\")\n",
        "    f.write(\"* ve seçeceğiniz sos:\\n\")\n",
        "    f.write(\"11: Zeytin\\n\")\n",
        "    f.write(\"12: Mantarlar\\n\")\n",
        "    f.write(\"13: Keçi Peyniri\\n\")\n",
        "    f.write(\"14: Et\\n\")\n",
        "    f.write(\"15: Soğan\\n\")\n",
        "    f.write(\"16: Mısır\\n\")\n",
        "    f.write(\"* Teşekkür ederiz\\n\")"
      ],
      "metadata": {
        "id": "JlGn8YdehmW-"
      },
      "execution_count": 11,
      "outputs": []
    },
    {
      "cell_type": "code",
      "source": [
        "#Bu kod, Pizza adında bir sınıf oluşturur. \n",
        "#Bu sınıf, pizza nesneleri için temel özellikleri bulunmaktadır.\n",
        "class Pizza:\n",
        "    def __init__(self):\n",
        "        self.description = \" Pizza\"\n",
        "        self.cost = 0.0\n",
        "\n",
        "    def get_description(self):\n",
        "        return self.description\n",
        "\n",
        "    def get_cost(self):\n",
        "        return self.cost\n"
      ],
      "metadata": {
        "id": "HrQwdO_fhn3m"
      },
      "execution_count": 12,
      "outputs": []
    },
    {
      "cell_type": "code",
      "source": [
        "#Pizza sınıfından türetilen farklı pizza çeşitleri için alt sınıflar oluşturuyor. \n",
        "#Her bir alt sınıf, kendi açıklamasını ve fiyatını tanımlıyor.\n",
        "class KlasikPizza(Pizza):\n",
        "    def __init__(self):\n",
        "        super().__init__()\n",
        "        self.description = \"Klasik pizza\"\n",
        "        self.cost = 120.0\n",
        "\n",
        "class MargheritaPizza(Pizza):\n",
        "    def __init__(self):\n",
        "        super().__init__()\n",
        "        self.description = \"Margherita pizza\"\n",
        "        self.cost = 125.0\n",
        "\n",
        "class TurkPizza(Pizza):\n",
        "    def __init__(self):\n",
        "        super().__init__()\n",
        "        self.description = \"Türk pizza\"\n",
        "        self.cost = 222.0\n",
        "\n",
        "class SadePizza(Pizza):\n",
        "    def __init__(self):\n",
        "        super().__init__()\n",
        "        self.description = \"Sade pizza\"\n",
        "        self.cost = 230.0"
      ],
      "metadata": {
        "id": "RqYEsIOKhqsd"
      },
      "execution_count": 13,
      "outputs": []
    },
    {
      "cell_type": "code",
      "source": [
        "# Decorator sınıfının tanımlanmasını sağlar. \n",
        "# Decorator sınıfı, pizza nesnelerinin özelliklerini kullanarak yeni özellikler eklemek için kullanılan bir yapıdır.\n",
        "class Decorator(Pizza):\n",
        "    def __init__(self, component):\n",
        "        self.component = component\n",
        "\n",
        "    def get_cost(self):\n",
        "        return self.component.get_cost() + Pizza.get_cost(self)\n",
        "\n",
        "    def get_description(self):\n",
        "        return self.component.get_description() + ' ' + Pizza.get_description(self)"
      ],
      "metadata": {
        "id": "7FjTHsIyhvBd"
      },
      "execution_count": 14,
      "outputs": []
    },
    {
      "cell_type": "code",
      "source": [
        "# Decorator, Pizza sınıfına ekstra özellikler eklemek için kullanılacak bir tasarım kalıbıdır. \n",
        "# Özellikleri eklemek için Decorator, Pizza sınıfı tarafından kullanılacaktır. \n",
        "# Bu sınıf, bir bileşen (component) nesnesine sahiptir \n",
        "# ve bileşen nesnesinin get_cost() ve get_description() yöntemlerini çağırarak maliyeti ve açıklamayı alır.\n",
        "class ZeytinSosu(Decorator):\n",
        "    def __init__(self, component):\n",
        "        super().__init__(component)\n",
        "        self.description = \"zeytin sosu\"\n",
        "        self.cost = 2.0\n",
        "\n",
        "class MantarSosu(Decorator):\n",
        "    def __init__(self, component):\n",
        "        super().__init__(component)\n",
        "        self.description = \"mantar sosu\"\n",
        "        self.cost = 2.5\n",
        "\n",
        "class KeciPeyniriSosu(Decorator):\n",
        "    def __init__(self, component):\n",
        "        super().__init__(component)\n",
        "        self.description = \"keci peyniri sosu\"\n",
        "        self.cost = 3.0\n",
        "\n",
        "class EtSosu(Decorator):\n",
        "    def __init__(self, component):\n",
        "        super().__init__(component)\n",
        "        self.description = \"et sosu\"\n",
        "        self.cost = 3.5\n",
        "\n",
        "class SoganSosu(Decorator):\n",
        "    def __init__(self, component):\n",
        "        super().__init__(component)\n",
        "        self.description = \"sogan sosu\"\n",
        "        self.cost = 2.0\n",
        "\n",
        "class MisirSosu(Decorator):\n",
        "    def __init__(self, component):\n",
        "        super().__init__(component)\n",
        "        self.description = \"misir sosu\"\n",
        "        self.cost = 2.0"
      ],
      "metadata": {
        "id": "OQ5vj-XvhwBW"
      },
      "execution_count": 15,
      "outputs": []
    },
    {
      "cell_type": "code",
      "source": [
        "from datetime import datetime\n",
        "\n",
        "def main():\n",
        "    # Menu.txt dosyasını oku ve ekrana yazdır\n",
        "    with open(\"Menu.txt\", \"r\") as f:\n",
        "        print(f.read())\n",
        "\n",
        "    # Kullanıcıdan pizza ve sos seçimini al\n",
        "    while True:\n",
        "        try:\n",
        "            pizza_choice = int(input(\"Pizza seçiniz (1-4): \"))\n",
        "            if pizza_choice < 1 or pizza_choice > 4:\n",
        "                raise ValueError\n",
        "            break\n",
        "        except ValueError:\n",
        "            print(\"Geçersiz pizza seçimi, tekrar deneyin.\")\n",
        "    \n",
        "    while True:\n",
        "        try:\n",
        "            sos_choice = int(input(\"Sos seçiniz (11-16): \"))\n",
        "            if sos_choice < 11 or sos_choice > 16:\n",
        "                raise ValueError\n",
        "            break\n",
        "        except ValueError:\n",
        "            print(\"Geçersiz sos seçimi, tekrar deneyin.\")\n",
        "    \n",
        "    # Seçilen pizza nesnesini oluştur\n",
        "    if pizza_choice == 1:\n",
        "        pizza = KlasikPizza()\n",
        "    elif pizza_choice == 2:\n",
        "        pizza = MargheritaPizza()\n",
        "    elif pizza_choice == 3:\n",
        "        pizza = TurkPizza()\n",
        "    elif pizza_choice == 4:\n",
        "        pizza = SadePizza()\n",
        "\n",
        "    # Seçilen sos nesnesini oluştur\n",
        "    if sos_choice == 11:\n",
        "        sos = ZeytinSosu(pizza)\n",
        "    elif sos_choice == 12:\n",
        "        sos = MantarSosu(pizza)\n",
        "    elif sos_choice == 13:\n",
        "        sos = KeciPeyniriSosu(pizza)\n",
        "    elif sos_choice == 14:\n",
        "        sos = EtSosu(pizza)\n",
        "    elif sos_choice == 15:\n",
        "        sos = SoganSosu(pizza)\n",
        "    elif sos_choice == 16:\n",
        "        sos = MisirSosu(pizza)\n",
        "\n",
        "    # Toplam fiyatı hesapla\n",
        "    total_cost = sos.get_cost()\n",
        "\n",
        "    # Kullanıcı bilgilerini al\n",
        "    name = input(\"İsim: \")\n",
        "    tc_no = input(\"TC Kimlik Numarası: \")\n",
        "    credit_card_no = input(\"Kredi Kartı Numarası: \")\n",
        "    credit_card_password = input(\"Kredi Kartı Şifresi: \")\n",
        "\n",
        "    # Siparişi Orders_Database.csv dosyasına kaydet\n",
        "    with open(\"Orders_Database.csv\", \"a\") as f:\n",
        "        writer = csv.writer(f)\n",
        "        writer.writerow([name, tc_no, credit_card_no, sos.get_description(), datetime.now().strftime(\"%Y-%m-%d %H:%M:%S\"), credit_card_password])\n",
        "\n",
        "    print(\"Siparişiniz alındı, teşekkür ederiz!\")"
      ],
      "metadata": {
        "id": "er2ZoAuBh0Qu"
      },
      "execution_count": 18,
      "outputs": []
    },
    {
      "cell_type": "code",
      "source": [
        "main()"
      ],
      "metadata": {
        "colab": {
          "base_uri": "https://localhost:8080/"
        },
        "id": "BEt_mjCjh7sm",
        "outputId": "82ebf83c-f351-4b8a-a9e7-f93ec6a333b2"
      },
      "execution_count": 19,
      "outputs": [
        {
          "output_type": "stream",
          "name": "stdout",
          "text": [
            "* Lütfen Bir Pizza Tabanı Seçiniz:\n",
            "1: Klasik\n",
            "2: Margarita\n",
            "3: TürkPizza\n",
            "4: Sade Pizza\n",
            "* ve seçeceğiniz sos:\n",
            "11: Zeytin\n",
            "12: Mantarlar\n",
            "13: Keçi Peyniri\n",
            "14: Et\n",
            "15: Soğan\n",
            "16: Mısır\n",
            "* Teşekkür ederiz\n",
            "\n",
            "Pizza seçiniz (1-4): 1\n",
            "Sos seçiniz (11-16): 11\n",
            "İsim: Ali Barkın Kara\n",
            "TC Kimlik Numarası: 19191919\n",
            "Kredi Kartı Numarası: 1111\n",
            "Kredi Kartı Şifresi: 2222\n",
            "Siparişiniz alındı, teşekkür ederiz!\n"
          ]
        }
      ]
    }
  ]
}